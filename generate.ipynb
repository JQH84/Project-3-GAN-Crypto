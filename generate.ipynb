{
 "cells": [
  {
   "cell_type": "code",
   "execution_count": 25,
   "metadata": {},
   "outputs": [],
   "source": [
    "import tensorflow as tf\n",
    "import matplotlib.pyplot as plt\n",
    "from encryption import *\n",
    "import cv2"
   ]
  },
  {
   "cell_type": "code",
   "execution_count": 31,
   "metadata": {},
   "outputs": [
    {
     "name": "stdout",
     "output_type": "stream",
     "text": [
      "WARNING:tensorflow:No training configuration found in the save file, so the model was *not* compiled. Compile it manually.\n",
      "1/1 [==============================] - 0s 290ms/step\n"
     ]
    }
   ],
   "source": [
    "model =  tf.keras.models.load_model('./my_model.h5')\n",
    "model.compile(optimizer = 'Adam', loss=None)\n",
    "img = model.predict(tf.random.normal([1, 5]))\n"
   ]
  },
  {
   "cell_type": "code",
   "execution_count": 32,
   "metadata": {},
   "outputs": [
    {
     "data": {
      "image/png": "[encoded data removed]",
      "text/plain": [
       "<Figure size 432x288 with 1 Axes>"
      ]
     },
     "metadata": {
      "needs_background": "light"
     },
     "output_type": "display_data"
    }
   ],
   "source": [
    "plt.imshow(img[0, :, :, :])\n",
    "plt.show()"
   ]
  },
  {
   "cell_type": "code",
   "execution_count": 41,
   "metadata": {},
   "outputs": [],
   "source": [
    "img = img.reshape(48,48,3)"
   ]
  },
  {
   "cell_type": "code",
   "execution_count": 42,
   "metadata": {},
   "outputs": [
    {
     "data": {
      "text/plain": [
       "array([[[5.7729566e-03, 2.5677385e-03, 7.7073118e-03],\n",
       "        [1.0445840e-03, 8.4988400e-04, 2.1638740e-03],\n",
       "        [2.6856404e-04, 1.2396113e-04, 3.1019148e-04],\n",
       "        ...,\n",
       "        [6.8664667e-04, 5.2179518e-04, 1.3385925e-03],\n",
       "        [6.3833059e-04, 3.0077575e-04, 6.1998283e-04],\n",
       "        [1.7140860e-03, 1.3363105e-03, 2.4016567e-03]],\n",
       "\n",
       "       [[3.9043876e-03, 2.2794094e-03, 5.6638788e-03],\n",
       "        [6.5756997e-04, 6.5866357e-04, 1.0518869e-03],\n",
       "        [3.5801285e-04, 1.5390484e-04, 3.5677283e-04],\n",
       "        ...,\n",
       "        [4.2030608e-04, 4.6440843e-04, 4.3187189e-04],\n",
       "        [3.5454181e-04, 2.0920979e-04, 2.6110691e-04],\n",
       "        [1.2147167e-03, 1.1147006e-03, 1.1782119e-03]],\n",
       "\n",
       "       [[2.0487693e-03, 8.1932056e-04, 2.5709060e-03],\n",
       "        [8.4059901e-04, 2.8979729e-04, 6.8892381e-04],\n",
       "        [4.9920275e-04, 2.6828222e-04, 4.1879225e-04],\n",
       "        ...,\n",
       "        [4.6287352e-04, 4.6173084e-04, 4.1585832e-04],\n",
       "        [4.7340218e-04, 4.3637332e-04, 3.7980979e-04],\n",
       "        [1.0892262e-03, 1.1974827e-03, 1.0095071e-03]],\n",
       "\n",
       "       ...,\n",
       "\n",
       "       [[7.2823954e-04, 2.0418408e-04, 2.5386396e-03],\n",
       "        [1.5703774e-04, 1.4673571e-04, 2.1560939e-03],\n",
       "        [1.4909459e-04, 1.2170635e-04, 2.7614094e-03],\n",
       "        ...,\n",
       "        [4.1320125e-04, 5.2488747e-04, 4.5726690e-04],\n",
       "        [4.9364148e-04, 7.7963393e-04, 5.3356064e-04],\n",
       "        [9.5978397e-04, 1.8961213e-03, 5.7959650e-04]],\n",
       "\n",
       "       [[1.0043092e-03, 3.0857365e-04, 3.5121257e-03],\n",
       "        [4.2637793e-04, 2.4721850e-04, 3.4508856e-03],\n",
       "        [1.6252598e-04, 7.3629308e-05, 5.8665588e-03],\n",
       "        ...,\n",
       "        [1.7295391e-04, 1.5257079e-04, 8.4652027e-05],\n",
       "        [2.0214736e-04, 7.8770325e-05, 9.9164929e-05],\n",
       "        [4.7214661e-04, 5.4082269e-04, 2.1684593e-04]],\n",
       "\n",
       "       [[8.6548496e-03, 1.6280697e-03, 8.5435594e-03],\n",
       "        [4.5840335e-03, 1.8613216e-03, 1.3129554e-02],\n",
       "        [1.1807795e-03, 1.2910289e-03, 7.3066023e-03],\n",
       "        ...,\n",
       "        [4.8777112e-04, 3.1398263e-04, 3.5170527e-04],\n",
       "        [4.7291192e-04, 4.9503200e-04, 4.0786114e-04],\n",
       "        [4.0870374e-03, 2.1745490e-03, 1.6839146e-03]]], dtype=float32)"
      ]
     },
     "execution_count": 42,
     "metadata": {},
     "output_type": "execute_result"
    }
   ],
   "source": [
    "img"
   ]
  },
  {
   "cell_type": "code",
   "execution_count": null,
   "metadata": {},
   "outputs": [],
   "source": []
  }
 ],
 "metadata": {
  "interpreter": {
   "hash": "4396f389b93e7269692bd3bea4c62813bbe379469bde939b058805f538feec11"
  },
  "kernelspec": {
   "display_name": "Python 3.7.11 ('dev')",
   "language": "python",
   "name": "python3"
  },
  "language_info": {
   "codemirror_mode": {
    "name": "ipython",
    "version": 3
   },
   "file_extension": ".py",
   "mimetype": "text/x-python",
   "name": "python",
   "nbconvert_exporter": "python",
   "pygments_lexer": "ipython3",
   "version": "3.7.11"
  },
  "orig_nbformat": 4
 },
 "nbformat": 4,
 "nbformat_minor": 2
}
